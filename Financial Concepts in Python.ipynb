{
 "cells": [
  {
   "cell_type": "code",
   "execution_count": 10,
   "id": "b22c9df2",
   "metadata": {},
   "outputs": [],
   "source": [
    "import numpy as np"
   ]
  },
  {
   "cell_type": "code",
   "execution_count": 11,
   "id": "06a15cfe",
   "metadata": {},
   "outputs": [
    {
     "name": "stdout",
     "output_type": "stream",
     "text": [
      "Investment 1 :574.35\n"
     ]
    }
   ],
   "source": [
    "#Calculating the value for the investment compounded once per year \n",
    "\n",
    "initial_investment = 100\n",
    "growth_periods = 30\n",
    "growth_rate = 0.06\n",
    "\n",
    "compound_periods_1 = 1\n",
    "investment_1 = initial_investment*(1 + growth_rate / compound_periods_1)**(compound_periods_1*growth_periods)\n",
    "print(\"Investment 1 :\" + str(round(investment_1, 2)))"
   ]
  },
  {
   "cell_type": "code",
   "execution_count": 12,
   "id": "58f96bf4",
   "metadata": {},
   "outputs": [
    {
     "name": "stdout",
     "output_type": "stream",
     "text": [
      "Investment 2 :596.93\n"
     ]
    }
   ],
   "source": [
    "#Calculating the value for the investment compounded quarterly\n",
    "\n",
    "compound_periods_2 = 4\n",
    "investment_2 = initial_investment*(1 + growth_rate / compound_periods_2)**(compound_periods_2*growth_periods)\n",
    "print(\"Investment 2 :\" + str(round(investment_2, 2)))"
   ]
  },
  {
   "cell_type": "code",
   "execution_count": 16,
   "id": "5335841d",
   "metadata": {},
   "outputs": [
    {
     "name": "stdout",
     "output_type": "stream",
     "text": [
      "Future Value : 59.87\n",
      "Discount Factor : 1.67\n",
      "Initial Factor : 100.0\n"
     ]
    }
   ],
   "source": [
    "#Calculating the future value\n",
    "\n",
    "amount = 100\n",
    "growth_rate = -0.05\n",
    "growth_periods = 10\n",
    "future_value = amount*(1+growth_rate)**growth_periods\n",
    "print(\"Future Value : \" + str(round(future_value, 2)))\n",
    "\n",
    "\n",
    "#Calculate the discount factor \n",
    "\n",
    "discount_factor = 1/((1 + growth_rate)**(growth_periods))\n",
    "print(\"Discount Factor : \" + str(round(discount_factor, 2)))\n",
    "\n",
    "\n",
    "#Derive the initial value of the investment\n",
    "\n",
    "amount_again = future_value*discount_factor\n",
    "print(\"Initial Factor : \" + str(round(amount_again, 2)))"
   ]
  },
  {
   "cell_type": "code",
   "execution_count": 1,
   "id": "1df6e9eb",
   "metadata": {},
   "outputs": [],
   "source": [
    "import numpy_financial as npf"
   ]
  },
  {
   "cell_type": "code",
   "execution_count": 5,
   "id": "ac0e814e",
   "metadata": {},
   "outputs": [
    {
     "name": "stdout",
     "output_type": "stream",
     "text": [
      "Investment 1 is worth 6418.62 in today's dollars\n"
     ]
    }
   ],
   "source": [
    "#Calculate investment\n",
    "\n",
    "investment = npf.pv(rate = 0.03, nper = 15, pmt = 0, fv = 10000)\n",
    "print(\"Investment 1 is worth \" + str(round(-investment, 2)) + \" in today's dollars\")"
   ]
  },
  {
   "cell_type": "code",
   "execution_count": 7,
   "id": "003a374c",
   "metadata": {},
   "outputs": [
    {
     "name": "stdout",
     "output_type": "stream",
     "text": [
      "Investment 1 will yield a total of $20789.28 in 15 years\n"
     ]
    }
   ],
   "source": [
    "investment = npf.fv(rate = 0.05, nper = 15, pmt = 0, pv = 10000)\n",
    "print(\"Investment 1 will yield a total of $\" + str(round(-investment, 2)) + \" in 15 years\")"
   ]
  },
  {
   "cell_type": "code",
   "execution_count": 12,
   "id": "6e737dec",
   "metadata": {},
   "outputs": [
    {
     "name": "stdout",
     "output_type": "stream",
     "text": [
      "Investment 1 will yield a total of $21589.25 in 10 years\n",
      "After adjusting for inflation, investment 1 is worth $16064.43 in today's dollars\n"
     ]
    }
   ],
   "source": [
    "#Caluclate investment_1\n",
    "\n",
    "investment_1 = npf.fv(rate = 0.08, nper = 10, pmt = 0, pv = 10000)\n",
    "print(\"Investment 1 will yield a total of $\" + str(round(-investment_1, 2)) + \" in 10 years\")\n",
    "\n",
    "#Adjusting for inflation \n",
    "\n",
    "discounted_investment = npf.pv(rate = 0.03, nper = 10, pmt = 0, fv = investment_1)\n",
    "print(\"After adjusting for inflation, investment 1 is worth $\" + str(round(discounted_investment, 2)) + \" in today's dollars\")"
   ]
  },
  {
   "cell_type": "code",
   "execution_count": null,
   "id": "a7de6272",
   "metadata": {},
   "outputs": [],
   "source": []
  }
 ],
 "metadata": {
  "kernelspec": {
   "display_name": "Python 3 (ipykernel)",
   "language": "python",
   "name": "python3"
  },
  "language_info": {
   "codemirror_mode": {
    "name": "ipython",
    "version": 3
   },
   "file_extension": ".py",
   "mimetype": "text/x-python",
   "name": "python",
   "nbconvert_exporter": "python",
   "pygments_lexer": "ipython3",
   "version": "3.9.7"
  }
 },
 "nbformat": 4,
 "nbformat_minor": 5
}
